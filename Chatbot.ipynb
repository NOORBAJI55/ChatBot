{
  "cells": [
    {
      "cell_type": "code",
      "execution_count": null,
      "metadata": {
        "id": "ZPXznW75iYLr"
      },
      "outputs": [],
      "source": [
        "\n",
        "import google.generativeai as ai\n",
        "\n",
        "from google.colab import userdata\n",
        "API_KEY=userdata.get('Gemini')"
      ]
    },
    {
      "cell_type": "code",
      "execution_count": null,
      "metadata": {
        "id": "-glBatkcii80"
      },
      "outputs": [],
      "source": [
        "ai.configure(api_key=API_KEY)\n",
        "\n",
        "# Create a new model\n",
        "\n",
        "model = ai. GenerativeModel(\"gemini-pro\")\n",
        "\n",
        "chat = model.start_chat()"
      ]
    },
    {
      "cell_type": "code",
      "execution_count": null,
      "metadata": {
        "colab": {
          "base_uri": "https://localhost:8080/"
        },
        "id": "xinRPvhEinrd",
        "outputId": "30b63e76-5bd3-4d66-adeb-a386e259e685"
      },
      "outputs": [
        {
          "output_type": "stream",
          "name": "stdout",
          "text": [
            "You: bye\n",
            "Chatbot: Goodbye!\n"
          ]
        }
      ],
      "source": [
        "while True:\n",
        "    message = input('You: ')\n",
        "    if message.lower() == 'bye':\n",
        "        print('Chatbot: Goodbye!')\n",
        "        break\n",
        "    response = chat.send_message(message)\n",
        "    print('Chatbot:', response.text)"
      ]
    },
    {
      "cell_type": "code",
      "source": [],
      "metadata": {
        "id": "ENDVMTH96pcq"
      },
      "execution_count": null,
      "outputs": []
    }
  ],
  "metadata": {
    "colab": {
      "provenance": []
    },
    "kernelspec": {
      "display_name": "Python 3",
      "name": "python3"
    },
    "language_info": {
      "name": "python"
    }
  },
  "nbformat": 4,
  "nbformat_minor": 0
}